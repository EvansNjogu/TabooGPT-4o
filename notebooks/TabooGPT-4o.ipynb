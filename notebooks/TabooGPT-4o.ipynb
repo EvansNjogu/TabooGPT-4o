{
  "nbformat": 4,
  "nbformat_minor": 0,
  "metadata": {
    "colab": {
      "provenance": []
    },
    "kernelspec": {
      "name": "python3",
      "display_name": "Python 3"
    },
    "language_info": {
      "name": "python"
    }
  },
  "cells": [
    {
      "cell_type": "markdown",
      "source": [
        "## Install Dependencies"
      ],
      "metadata": {
        "id": "Fl3uTfBEPrvq"
      }
    },
    {
      "cell_type": "code",
      "execution_count": null,
      "metadata": {
        "id": "Ikv7eiUUO8kj",
        "colab": {
          "base_uri": "https://localhost:8080/"
        },
        "outputId": "39f5a57e-5c50-475d-b890-386ae9f74cfd"
      },
      "outputs": [
        {
          "output_type": "stream",
          "name": "stdout",
          "text": [
            "Requirement already satisfied: openai in /usr/local/lib/python3.10/dist-packages (1.52.2)\n",
            "Requirement already satisfied: anyio<5,>=3.5.0 in /usr/local/lib/python3.10/dist-packages (from openai) (3.7.1)\n",
            "Requirement already satisfied: distro<2,>=1.7.0 in /usr/local/lib/python3.10/dist-packages (from openai) (1.9.0)\n",
            "Requirement already satisfied: httpx<1,>=0.23.0 in /usr/local/lib/python3.10/dist-packages (from openai) (0.27.2)\n",
            "Requirement already satisfied: jiter<1,>=0.4.0 in /usr/local/lib/python3.10/dist-packages (from openai) (0.7.0)\n",
            "Requirement already satisfied: pydantic<3,>=1.9.0 in /usr/local/lib/python3.10/dist-packages (from openai) (2.9.2)\n",
            "Requirement already satisfied: sniffio in /usr/local/lib/python3.10/dist-packages (from openai) (1.3.1)\n",
            "Requirement already satisfied: tqdm>4 in /usr/local/lib/python3.10/dist-packages (from openai) (4.66.6)\n",
            "Requirement already satisfied: typing-extensions<5,>=4.11 in /usr/local/lib/python3.10/dist-packages (from openai) (4.12.2)\n",
            "Requirement already satisfied: idna>=2.8 in /usr/local/lib/python3.10/dist-packages (from anyio<5,>=3.5.0->openai) (3.10)\n",
            "Requirement already satisfied: exceptiongroup in /usr/local/lib/python3.10/dist-packages (from anyio<5,>=3.5.0->openai) (1.2.2)\n",
            "Requirement already satisfied: certifi in /usr/local/lib/python3.10/dist-packages (from httpx<1,>=0.23.0->openai) (2024.8.30)\n",
            "Requirement already satisfied: httpcore==1.* in /usr/local/lib/python3.10/dist-packages (from httpx<1,>=0.23.0->openai) (1.0.6)\n",
            "Requirement already satisfied: h11<0.15,>=0.13 in /usr/local/lib/python3.10/dist-packages (from httpcore==1.*->httpx<1,>=0.23.0->openai) (0.14.0)\n",
            "Requirement already satisfied: annotated-types>=0.6.0 in /usr/local/lib/python3.10/dist-packages (from pydantic<3,>=1.9.0->openai) (0.7.0)\n",
            "Requirement already satisfied: pydantic-core==2.23.4 in /usr/local/lib/python3.10/dist-packages (from pydantic<3,>=1.9.0->openai) (2.23.4)\n"
          ]
        }
      ],
      "source": [
        "!pip install openai"
      ]
    },
    {
      "cell_type": "markdown",
      "source": [
        "## Import Libraries"
      ],
      "metadata": {
        "id": "hYWl4McJMFTQ"
      }
    },
    {
      "cell_type": "code",
      "source": [
        "import openai\n",
        "import os\n",
        "import json\n",
        "from google.colab import drive, runtime"
      ],
      "metadata": {
        "id": "LD5Z0GlAMIq_"
      },
      "execution_count": null,
      "outputs": []
    },
    {
      "cell_type": "markdown",
      "source": [
        "## Mount Google Drive"
      ],
      "metadata": {
        "id": "O55Emed0JBQe"
      }
    },
    {
      "cell_type": "code",
      "source": [
        "drive.mount('/content/drive')"
      ],
      "metadata": {
        "colab": {
          "base_uri": "https://localhost:8080/"
        },
        "id": "SnjcIx8NMcHt",
        "outputId": "dac9f712-f511-40ca-d38a-2ca414e319c5"
      },
      "execution_count": null,
      "outputs": [
        {
          "output_type": "stream",
          "name": "stdout",
          "text": [
            "Mounted at /content/drive\n"
          ]
        }
      ]
    },
    {
      "cell_type": "markdown",
      "source": [
        "## Access Data"
      ],
      "metadata": {
        "id": "4OV0qRxxMkRe"
      }
    },
    {
      "cell_type": "code",
      "source": [
        "data = '/content/drive/MyDrive/Taboo data/en'"
      ],
      "metadata": {
        "id": "xQ6IkIzEMl-Q"
      },
      "execution_count": null,
      "outputs": []
    },
    {
      "cell_type": "markdown",
      "source": [
        "## Load Data"
      ],
      "metadata": {
        "id": "odF29CMTMr4w"
      }
    },
    {
      "cell_type": "code",
      "source": [
        "taboo_data = {}\n",
        "\n",
        "# Load each JSON file\n",
        "for filename in os.listdir(data):\n",
        "    if filename.endswith(\".json\"):\n",
        "        category = filename.split('.')[0]  # e.g., 'animals', 'cars'\n",
        "        with open(os.path.join(data, filename), 'r') as file:\n",
        "            taboo_data[category] = json.load(file)\n",
        "\n",
        "# Display data\n",
        "print(f\"Categories loaded: {list(taboo_data.keys())}\")"
      ],
      "metadata": {
        "colab": {
          "base_uri": "https://localhost:8080/"
        },
        "id": "Rlbx8hsxMvGI",
        "outputId": "ceacb0f4-694d-4af5-caad-c40df1ad6e5c"
      },
      "execution_count": null,
      "outputs": [
        {
          "output_type": "stream",
          "name": "stdout",
          "text": [
            "Categories loaded: ['literature', 'food', 'tv', 'sports', 'cars', 'web', 'animals', 'city-country', 'people', 'things']\n"
          ]
        }
      ]
    },
    {
      "cell_type": "markdown",
      "source": [
        "## Prepare Training Data"
      ],
      "metadata": {
        "id": "4P0yckzeNNkN"
      }
    },
    {
      "cell_type": "markdown",
      "source": [
        "### Prompt-completion format"
      ],
      "metadata": {
        "id": "GHe4p2tZAvCi"
      }
    },
    {
      "cell_type": "code",
      "source": [
        "# Store prompt-completion pairs\n",
        "training_data = []\n",
        "\n",
        "for category, words in taboo_data.items():\n",
        "    for word, taboo_words in words.items():\n",
        "        prompt = f\"Describe '{word}' without using the words: {', '.join(taboo_words)}.\"\n",
        "        completion = f\"A description for '{word}'.\"\n",
        "        training_data.append({'prompt': prompt, 'completion': completion})\n",
        "\n",
        "# Display sample training data\n",
        "print(\"Sample training data:\", training_data[:3])"
      ],
      "metadata": {
        "colab": {
          "base_uri": "https://localhost:8080/"
        },
        "id": "W1Hwe_-1NPtq",
        "outputId": "42690bed-3406-4641-c7b9-a3ec09d9ed4d"
      },
      "execution_count": null,
      "outputs": [
        {
          "output_type": "stream",
          "name": "stdout",
          "text": [
            "Sample training data: [{'prompt': \"Describe '1984' without using the words: George Orwell.\", 'completion': \"A description for '1984'.\"}, {'prompt': \"Describe 'A Doll's House' without using the words: Henrik Ibsen.\", 'completion': \"A description for 'A Doll's House'.\"}, {'prompt': \"Describe 'Absalom, Absalom!' without using the words: William Faulkner.\", 'completion': \"A description for 'Absalom, Absalom!'.\"}]\n"
          ]
        }
      ]
    },
    {
      "cell_type": "markdown",
      "source": [
        "### Chat format (compatible to gpt-4o)"
      ],
      "metadata": {
        "id": "WOVfvN2xA0eB"
      }
    },
    {
      "cell_type": "code",
      "source": [
        "chat_training_data = []\n",
        "\n",
        "for category, words in taboo_data.items():\n",
        "    for word, taboo_words in words.items():\n",
        "        user_message = f\"Describe '{word}' without using the words: {', '.join(taboo_words)}.\"\n",
        "        assistant_message = f\"A description for '{word}'.\"\n",
        "\n",
        "        chat_training_data.append({\n",
        "            \"messages\": [\n",
        "                {\"role\": \"user\", \"content\": user_message},\n",
        "                {\"role\": \"assistant\", \"content\": assistant_message}\n",
        "            ]\n",
        "        })\n",
        "\n",
        "# Savechat-style data to a new JSONL file\n",
        "chat_output_path = '/content/drive/MyDrive/Taboo data/chat_training_data.jsonl'\n",
        "with open(chat_output_path, 'w') as outfile:\n",
        "    for entry in chat_training_data:\n",
        "        json.dump(entry, outfile)\n",
        "        outfile.write('\\n')\n",
        "\n",
        "print(f\"Chat training data saved to {chat_output_path}\")"
      ],
      "metadata": {
        "colab": {
          "base_uri": "https://localhost:8080/"
        },
        "id": "_e9Z-WSx_qZ9",
        "outputId": "3ba4a6f7-32ea-482b-f1e5-a61f97a445ed"
      },
      "execution_count": null,
      "outputs": [
        {
          "output_type": "stream",
          "name": "stdout",
          "text": [
            "Chat training data saved to /content/drive/MyDrive/Taboo data/chat_training_data.jsonl\n"
          ]
        }
      ]
    },
    {
      "cell_type": "markdown",
      "source": [
        "## Save Training Data in JSONL Format"
      ],
      "metadata": {
        "id": "DTWKK8yPOW_-"
      }
    },
    {
      "cell_type": "code",
      "source": [
        "output_path = '/content/drive/MyDrive/Taboo data/chat_training_data.jsonl'\n",
        "\n",
        "# Save data in JSONL format\n",
        "with open(output_path, 'w') as outfile:\n",
        "    for entry in chat_training_data:\n",
        "        json.dump(entry, outfile)\n",
        "        outfile.write('\\n')\n",
        "\n",
        "print(f\"Training data saved to {output_path}\")"
      ],
      "metadata": {
        "colab": {
          "base_uri": "https://localhost:8080/"
        },
        "id": "YBE_-QW3Oc3b",
        "outputId": "a2ba22fe-7743-41bc-bc79-b351f920fc31"
      },
      "execution_count": null,
      "outputs": [
        {
          "output_type": "stream",
          "name": "stdout",
          "text": [
            "Training data saved to /content/drive/MyDrive/Taboo data/chat_training_data.jsonl\n"
          ]
        }
      ]
    },
    {
      "cell_type": "markdown",
      "source": [
        "## Set up OpenAI API Key"
      ],
      "metadata": {
        "id": "TyjRdBcDPeb2"
      }
    },
    {
      "cell_type": "code",
      "source": [
        "from google.colab import userdata\n",
        "\n",
        "OPENAI_API_KEY = userdata.get(\"OPEN_API_KEY\")\n",
        "openai.api_key = OPENAI_API_KEY"
      ],
      "metadata": {
        "id": "yM3B4AOWPhWa"
      },
      "execution_count": null,
      "outputs": []
    },
    {
      "cell_type": "markdown",
      "source": [
        "## Upload Training file to OpenAI"
      ],
      "metadata": {
        "id": "h8Ns5G5gQdTg"
      }
    },
    {
      "cell_type": "code",
      "source": [
        "from openai import OpenAI\n",
        "\n",
        "client = OpenAI(api_key=OPENAI_API_KEY)\n",
        "\n",
        "with open(output_path, \"rb\") as file:\n",
        "    training_file = client.files.create(\n",
        "        file=file,\n",
        "        purpose=\"fine-tune\"\n",
        "    )\n",
        "print(\"Training file ID:\", training_file.id)"
      ],
      "metadata": {
        "colab": {
          "base_uri": "https://localhost:8080/"
        },
        "id": "9tD2bJwqQhj2",
        "outputId": "018c52f3-853a-4f1a-9b84-d366820fcb4e"
      },
      "execution_count": null,
      "outputs": [
        {
          "output_type": "stream",
          "name": "stdout",
          "text": [
            "Training file ID: file-R9qd4t2bI5AonslJJHR4ckPI\n"
          ]
        }
      ]
    },
    {
      "cell_type": "markdown",
      "source": [
        "## Start the Fine-Tuning Job"
      ],
      "metadata": {
        "id": "De9ck6pkJZUF"
      }
    },
    {
      "cell_type": "code",
      "source": [
        "fine_tune_response = client.fine_tuning.jobs.create(\n",
        "    training_file=training_file.id,\n",
        "    model=\"gpt-4o-2024-08-06\",\n",
        "    suffix=\"TabooGPT-4o\"\n",
        ")\n",
        "\n",
        "print(\"Fine-tuning job details:\", fine_tune_response)"
      ],
      "metadata": {
        "colab": {
          "base_uri": "https://localhost:8080/"
        },
        "id": "0uJla5K7JYKd",
        "outputId": "2691543f-7491-484e-85e4-5a68b0c39611"
      },
      "execution_count": null,
      "outputs": [
        {
          "output_type": "stream",
          "name": "stdout",
          "text": [
            "Fine-tuning job details: FineTuningJob(id='ftjob-TiNk77Rnyxv2AYNKM8wxh2Lb', created_at=1731425914, error=Error(code=None, message=None, param=None), fine_tuned_model=None, finished_at=None, hyperparameters=Hyperparameters(n_epochs='auto', batch_size='auto', learning_rate_multiplier='auto'), model='gpt-4o-2024-08-06', object='fine_tuning.job', organization_id='org-0zORcMd10Hj9lDB13OACLHnu', result_files=[], seed=1528435292, status='validating_files', trained_tokens=None, training_file='file-R9qd4t2bI5AonslJJHR4ckPI', validation_file=None, estimated_finish=None, integrations=[], user_provided_suffix='TabooGPT-4o')\n"
          ]
        }
      ]
    },
    {
      "cell_type": "markdown",
      "source": [
        "## Monitor the Fine-Tuning Job Status (periodic run while job is in progress)"
      ],
      "metadata": {
        "id": "8-bNcy4eKl2E"
      }
    },
    {
      "cell_type": "code",
      "source": [
        "fine_tune_job_id = fine_tune_response.id\n",
        "\n",
        "import time\n",
        "\n",
        "# Check status every 60 seconds\n",
        "while True:\n",
        "    status_response = client.fine_tuning.jobs.retrieve(fine_tune_job_id)\n",
        "    print(\"Fine-tuning job status:\", status_response.status)\n",
        "\n",
        "    if status_response.status == 'succeeded':\n",
        "        print(\"Fine-tuning job completed successfully!\")\n",
        "        break\n",
        "    elif status_response.status == 'failed':\n",
        "        print(\"Fine-tuning job failed.\")\n",
        "        print(\"Error details:\", status_response.error)\n",
        "        break\n",
        "\n",
        "    # Wait before checking again\n",
        "    time.sleep(60)"
      ],
      "metadata": {
        "id": "iGskSquCKo4e",
        "colab": {
          "base_uri": "https://localhost:8080/",
          "height": 1000
        },
        "outputId": "ec82fe2e-a063-4b53-a53e-e967bdc61c78"
      },
      "execution_count": null,
      "outputs": [
        {
          "output_type": "stream",
          "name": "stdout",
          "text": [
            "Fine-tuning job status: validating_files\n",
            "Fine-tuning job status: validating_files\n",
            "Fine-tuning job status: running\n",
            "Fine-tuning job status: running\n",
            "Fine-tuning job status: running\n",
            "Fine-tuning job status: running\n",
            "Fine-tuning job status: running\n",
            "Fine-tuning job status: running\n",
            "Fine-tuning job status: running\n",
            "Fine-tuning job status: running\n",
            "Fine-tuning job status: running\n",
            "Fine-tuning job status: running\n",
            "Fine-tuning job status: running\n",
            "Fine-tuning job status: running\n",
            "Fine-tuning job status: running\n",
            "Fine-tuning job status: running\n",
            "Fine-tuning job status: running\n",
            "Fine-tuning job status: running\n",
            "Fine-tuning job status: running\n",
            "Fine-tuning job status: running\n",
            "Fine-tuning job status: running\n",
            "Fine-tuning job status: running\n",
            "Fine-tuning job status: running\n",
            "Fine-tuning job status: running\n",
            "Fine-tuning job status: running\n",
            "Fine-tuning job status: running\n",
            "Fine-tuning job status: running\n",
            "Fine-tuning job status: running\n",
            "Fine-tuning job status: running\n",
            "Fine-tuning job status: running\n",
            "Fine-tuning job status: running\n",
            "Fine-tuning job status: running\n",
            "Fine-tuning job status: running\n",
            "Fine-tuning job status: running\n",
            "Fine-tuning job status: running\n",
            "Fine-tuning job status: running\n",
            "Fine-tuning job status: running\n",
            "Fine-tuning job status: running\n",
            "Fine-tuning job status: running\n",
            "Fine-tuning job status: running\n",
            "Fine-tuning job status: running\n",
            "Fine-tuning job status: running\n",
            "Fine-tuning job status: running\n",
            "Fine-tuning job status: running\n",
            "Fine-tuning job status: running\n",
            "Fine-tuning job status: succeeded\n",
            "Fine-tuning job status: succeeded\n",
            "Fine-tuning job status: succeeded\n"
          ]
        },
        {
          "output_type": "error",
          "ename": "KeyboardInterrupt",
          "evalue": "",
          "traceback": [
            "\u001b[0;31m---------------------------------------------------------------------------\u001b[0m",
            "\u001b[0;31mKeyboardInterrupt\u001b[0m                         Traceback (most recent call last)",
            "\u001b[0;32m<ipython-input-16-a4071409effa>\u001b[0m in \u001b[0;36m<cell line: 7>\u001b[0;34m()\u001b[0m\n\u001b[1;32m     18\u001b[0m \u001b[0;34m\u001b[0m\u001b[0m\n\u001b[1;32m     19\u001b[0m     \u001b[0;31m# Wait before checking again\u001b[0m\u001b[0;34m\u001b[0m\u001b[0;34m\u001b[0m\u001b[0m\n\u001b[0;32m---> 20\u001b[0;31m     \u001b[0mtime\u001b[0m\u001b[0;34m.\u001b[0m\u001b[0msleep\u001b[0m\u001b[0;34m(\u001b[0m\u001b[0;36m60\u001b[0m\u001b[0;34m)\u001b[0m\u001b[0;34m\u001b[0m\u001b[0;34m\u001b[0m\u001b[0m\n\u001b[0m",
            "\u001b[0;31mKeyboardInterrupt\u001b[0m: "
          ]
        }
      ]
    },
    {
      "cell_type": "code",
      "source": [],
      "metadata": {
        "id": "d_fat-zp-Af1"
      },
      "execution_count": null,
      "outputs": []
    }
  ]
}
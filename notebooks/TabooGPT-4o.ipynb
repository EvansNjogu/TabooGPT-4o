{
  "nbformat": 4,
  "nbformat_minor": 0,
  "metadata": {
    "colab": {
      "provenance": []
    },
    "kernelspec": {
      "name": "python3",
      "display_name": "Python 3"
    },
    "language_info": {
      "name": "python"
    }
  },
  "cells": [
    {
      "cell_type": "markdown",
      "source": [
        "## Install Dependencies"
      ],
      "metadata": {
        "id": "Fl3uTfBEPrvq"
      }
    },
    {
      "cell_type": "code",
      "execution_count": null,
      "metadata": {
        "id": "Ikv7eiUUO8kj"
      },
      "outputs": [],
      "source": [
        "!pip install -q openai"
      ]
    },
    {
      "cell_type": "markdown",
      "source": [
        "## Import Libraries"
      ],
      "metadata": {
        "id": "hYWl4McJMFTQ"
      }
    },
    {
      "cell_type": "code",
      "source": [
        "import openai\n",
        "import os\n",
        "import json\n",
        "from google.colab import drive, runtime"
      ],
      "metadata": {
        "id": "LD5Z0GlAMIq_"
      },
      "execution_count": null,
      "outputs": []
    },
    {
      "cell_type": "markdown",
      "source": [
        "## Mount Google Drive"
      ],
      "metadata": {
        "id": "O55Emed0JBQe"
      }
    },
    {
      "cell_type": "code",
      "source": [
        "drive.mount('/content/drive')"
      ],
      "metadata": {
        "colab": {
          "base_uri": "https://localhost:8080/"
        },
        "id": "SnjcIx8NMcHt",
        "outputId": "edcf48b2-45b5-41bb-eff2-4d8132499b02"
      },
      "execution_count": null,
      "outputs": [
        {
          "output_type": "stream",
          "name": "stdout",
          "text": [
            "Mounted at /content/drive\n"
          ]
        }
      ]
    },
    {
      "cell_type": "markdown",
      "source": [
        "## Access Data"
      ],
      "metadata": {
        "id": "4OV0qRxxMkRe"
      }
    },
    {
      "cell_type": "code",
      "source": [
        "data = '/content/drive/MyDrive/Taboo data/en'"
      ],
      "metadata": {
        "id": "xQ6IkIzEMl-Q"
      },
      "execution_count": null,
      "outputs": []
    },
    {
      "cell_type": "markdown",
      "source": [
        "## Load Data"
      ],
      "metadata": {
        "id": "odF29CMTMr4w"
      }
    },
    {
      "cell_type": "code",
      "source": [
        "taboo_data = {}\n",
        "\n",
        "# Load each JSON file\n",
        "for filename in os.listdir(data):\n",
        "    if filename.endswith(\".json\"):\n",
        "        category = filename.split('.')[0]  # e.g., 'animals', 'cars'\n",
        "        with open(os.path.join(data, filename), 'r') as file:\n",
        "            taboo_data[category] = json.load(file)\n",
        "\n",
        "# Display data structure\n",
        "print(f\"Categories loaded: {list(taboo_data.keys())}\")"
      ],
      "metadata": {
        "colab": {
          "base_uri": "https://localhost:8080/"
        },
        "id": "Rlbx8hsxMvGI",
        "outputId": "7048a87a-10b1-4bae-c75c-4968316e0300"
      },
      "execution_count": null,
      "outputs": [
        {
          "output_type": "stream",
          "name": "stdout",
          "text": [
            "Categories loaded: ['literature', 'food', 'tv', 'sports', 'cars', 'web', 'animals', 'city-country', 'people', 'things']\n"
          ]
        }
      ]
    },
    {
      "cell_type": "code",
      "source": [
        "import openai\n",
        "from google.colab import drive\n",
        "from google.colab import runtime\n",
        "\n",
        "\n",
        "drive.mount('/content/drive')\n",
        "\n",
        "OPENAI_API_KEY = runtime.user_secrets.get_secret(\"OPEN_API_KEY\")\n",
        "openai.api_key = OPENAI_API_KEY"
      ],
      "metadata": {
        "id": "M-DcAg-iPv2l"
      },
      "execution_count": null,
      "outputs": []
    },
    {
      "cell_type": "markdown",
      "source": [
        "## Prepare Training Data"
      ],
      "metadata": {
        "id": "4P0yckzeNNkN"
      }
    },
    {
      "cell_type": "code",
      "source": [
        "# Store prompt-completion pairs for training\n",
        "training_data = []\n",
        "\n",
        "for category, words in taboo_data.items():\n",
        "    for word, taboo_words in words.items():\n",
        "        prompt = f\"Describe '{word}' without using the words: {', '.join(taboo_words)}.\"\n",
        "        # Placeholder/generic description\n",
        "        completion = f\"A description for '{word}'.\"\n",
        "        training_data.append({'prompt': prompt, 'completion': completion})\n",
        "\n",
        "# Display updated sample training data\n",
        "print(\"Sample training data:\", training_data[:3])"
      ],
      "metadata": {
        "colab": {
          "base_uri": "https://localhost:8080/"
        },
        "id": "W1Hwe_-1NPtq",
        "outputId": "f77abafb-3fee-44a2-a835-f5e06e59a955"
      },
      "execution_count": null,
      "outputs": [
        {
          "output_type": "stream",
          "name": "stdout",
          "text": [
            "Sample training data: [{'prompt': \"Describe '1984' without using the words: George Orwell.\", 'completion': \"A description for '1984'.\"}, {'prompt': \"Describe 'A Doll's House' without using the words: Henrik Ibsen.\", 'completion': \"A description for 'A Doll's House'.\"}, {'prompt': \"Describe 'Absalom, Absalom!' without using the words: William Faulkner.\", 'completion': \"A description for 'Absalom, Absalom!'.\"}]\n"
          ]
        }
      ]
    },
    {
      "cell_type": "markdown",
      "source": [
        "## Save Training Data in JSONL Format"
      ],
      "metadata": {
        "id": "DTWKK8yPOW_-"
      }
    },
    {
      "cell_type": "code",
      "source": [
        "output_path = '/content/drive/MyDrive/Taboo data/training_data.jsonl'\n",
        "\n",
        "\n",
        "# Save data in JSONL format\n",
        "with open(output_path, 'w') as outfile:\n",
        "    for entry in training_data:\n",
        "        json.dump(entry, outfile)\n",
        "        outfile.write('\\n')\n",
        "\n",
        "print(f\"Training data saved to {output_path}\")"
      ],
      "metadata": {
        "colab": {
          "base_uri": "https://localhost:8080/"
        },
        "id": "YBE_-QW3Oc3b",
        "outputId": "64623151-19fe-49fc-af66-56f90e3ab193"
      },
      "execution_count": null,
      "outputs": [
        {
          "output_type": "stream",
          "name": "stdout",
          "text": [
            "Training data saved to /content/drive/MyDrive/Taboo data/training_data.jsonl\n"
          ]
        }
      ]
    },
    {
      "cell_type": "markdown",
      "source": [
        "## Set up OpenAI API Key"
      ],
      "metadata": {
        "id": "TyjRdBcDPeb2"
      }
    },
    {
      "cell_type": "code",
      "source": [
        "from google.colab import userdata\n",
        "import openai\n",
        "\n",
        "OPENAI_API_KEY = userdata.get(\"OPEN_API_KEY\")\n",
        "openai.api_key = OPENAI_API_KEY"
      ],
      "metadata": {
        "id": "yM3B4AOWPhWa"
      },
      "execution_count": null,
      "outputs": []
    },
    {
      "cell_type": "markdown",
      "source": [
        "## Upload Training file to OpenAI"
      ],
      "metadata": {
        "id": "h8Ns5G5gQdTg"
      }
    },
    {
      "cell_type": "code",
      "source": [
        "with open(output_path, \"rb\") as file:\n",
        "    training_file = openai.File.create(\n",
        "        file=file,\n",
        "        purpose=\"fine-tune\"\n",
        "    )\n",
        "\n",
        "print(\"Training file ID:\", training_file[\"id\"])"
      ],
      "metadata": {
        "colab": {
          "base_uri": "https://localhost:8080/",
          "height": 488
        },
        "id": "9tD2bJwqQhj2",
        "outputId": "705dcec1-1a7c-43d9-95d3-6f6a398cfbb0"
      },
      "execution_count": null,
      "outputs": [
        {
          "output_type": "error",
          "ename": "APIRemovedInV1",
          "evalue": "\n\nYou tried to access openai.File, but this is no longer supported in openai>=1.0.0 - see the README at https://github.com/openai/openai-python for the API.\n\nYou can run `openai migrate` to automatically upgrade your codebase to use the 1.0.0 interface. \n\nAlternatively, you can pin your installation to the old version, e.g. `pip install openai==0.28`\n\nA detailed migration guide is available here: https://github.com/openai/openai-python/discussions/742\n",
          "traceback": [
            "\u001b[0;31m---------------------------------------------------------------------------\u001b[0m",
            "\u001b[0;31mAPIRemovedInV1\u001b[0m                            Traceback (most recent call last)",
            "\u001b[0;32m<ipython-input-21-fa845df2a836>\u001b[0m in \u001b[0;36m<cell line: 1>\u001b[0;34m()\u001b[0m\n\u001b[1;32m      1\u001b[0m \u001b[0;32mwith\u001b[0m \u001b[0mopen\u001b[0m\u001b[0;34m(\u001b[0m\u001b[0moutput_path\u001b[0m\u001b[0;34m,\u001b[0m \u001b[0;34m\"rb\"\u001b[0m\u001b[0;34m)\u001b[0m \u001b[0;32mas\u001b[0m \u001b[0mfile\u001b[0m\u001b[0;34m:\u001b[0m\u001b[0;34m\u001b[0m\u001b[0;34m\u001b[0m\u001b[0m\n\u001b[0;32m----> 2\u001b[0;31m     training_file = openai.File.create(\n\u001b[0m\u001b[1;32m      3\u001b[0m         \u001b[0mfile\u001b[0m\u001b[0;34m=\u001b[0m\u001b[0mfile\u001b[0m\u001b[0;34m,\u001b[0m\u001b[0;34m\u001b[0m\u001b[0;34m\u001b[0m\u001b[0m\n\u001b[1;32m      4\u001b[0m         \u001b[0mpurpose\u001b[0m\u001b[0;34m=\u001b[0m\u001b[0;34m\"fine-tune\"\u001b[0m\u001b[0;34m\u001b[0m\u001b[0;34m\u001b[0m\u001b[0m\n\u001b[1;32m      5\u001b[0m     )\n",
            "\u001b[0;32m/usr/local/lib/python3.10/dist-packages/openai/lib/_old_api.py\u001b[0m in \u001b[0;36m__call__\u001b[0;34m(self, *_args, **_kwargs)\u001b[0m\n\u001b[1;32m     37\u001b[0m \u001b[0;34m\u001b[0m\u001b[0m\n\u001b[1;32m     38\u001b[0m     \u001b[0;32mdef\u001b[0m \u001b[0m__call__\u001b[0m\u001b[0;34m(\u001b[0m\u001b[0mself\u001b[0m\u001b[0;34m,\u001b[0m \u001b[0;34m*\u001b[0m\u001b[0m_args\u001b[0m\u001b[0;34m:\u001b[0m \u001b[0mAny\u001b[0m\u001b[0;34m,\u001b[0m \u001b[0;34m**\u001b[0m\u001b[0m_kwargs\u001b[0m\u001b[0;34m:\u001b[0m \u001b[0mAny\u001b[0m\u001b[0;34m)\u001b[0m \u001b[0;34m->\u001b[0m \u001b[0mAny\u001b[0m\u001b[0;34m:\u001b[0m\u001b[0;34m\u001b[0m\u001b[0;34m\u001b[0m\u001b[0m\n\u001b[0;32m---> 39\u001b[0;31m         \u001b[0;32mraise\u001b[0m \u001b[0mAPIRemovedInV1\u001b[0m\u001b[0;34m(\u001b[0m\u001b[0msymbol\u001b[0m\u001b[0;34m=\u001b[0m\u001b[0mself\u001b[0m\u001b[0;34m.\u001b[0m\u001b[0m_symbol\u001b[0m\u001b[0;34m)\u001b[0m\u001b[0;34m\u001b[0m\u001b[0;34m\u001b[0m\u001b[0m\n\u001b[0m\u001b[1;32m     40\u001b[0m \u001b[0;34m\u001b[0m\u001b[0m\n\u001b[1;32m     41\u001b[0m \u001b[0;34m\u001b[0m\u001b[0m\n",
            "\u001b[0;31mAPIRemovedInV1\u001b[0m: \n\nYou tried to access openai.File, but this is no longer supported in openai>=1.0.0 - see the README at https://github.com/openai/openai-python for the API.\n\nYou can run `openai migrate` to automatically upgrade your codebase to use the 1.0.0 interface. \n\nAlternatively, you can pin your installation to the old version, e.g. `pip install openai==0.28`\n\nA detailed migration guide is available here: https://github.com/openai/openai-python/discussions/742\n"
          ]
        }
      ]
    }
  ]
}
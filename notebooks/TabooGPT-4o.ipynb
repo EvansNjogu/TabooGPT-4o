{
  "nbformat": 4,
  "nbformat_minor": 0,
  "metadata": {
    "colab": {
      "provenance": []
    },
    "kernelspec": {
      "name": "python3",
      "display_name": "Python 3"
    },
    "language_info": {
      "name": "python"
    }
  },
  "cells": [
    {
      "cell_type": "markdown",
      "source": [
        "## Install Dependencies"
      ],
      "metadata": {
        "id": "Fl3uTfBEPrvq"
      }
    },
    {
      "cell_type": "code",
      "execution_count": 1,
      "metadata": {
        "id": "Ikv7eiUUO8kj",
        "colab": {
          "base_uri": "https://localhost:8080/"
        },
        "outputId": "b3d843d6-be72-4985-f499-daff5a5d4c66"
      },
      "outputs": [
        {
          "output_type": "stream",
          "name": "stdout",
          "text": [
            "Collecting openai==0.28\n",
            "  Downloading openai-0.28.0-py3-none-any.whl.metadata (13 kB)\n",
            "Requirement already satisfied: requests>=2.20 in /usr/local/lib/python3.10/dist-packages (from openai==0.28) (2.32.3)\n",
            "Requirement already satisfied: tqdm in /usr/local/lib/python3.10/dist-packages (from openai==0.28) (4.66.6)\n",
            "Requirement already satisfied: aiohttp in /usr/local/lib/python3.10/dist-packages (from openai==0.28) (3.10.10)\n",
            "Requirement already satisfied: charset-normalizer<4,>=2 in /usr/local/lib/python3.10/dist-packages (from requests>=2.20->openai==0.28) (3.4.0)\n",
            "Requirement already satisfied: idna<4,>=2.5 in /usr/local/lib/python3.10/dist-packages (from requests>=2.20->openai==0.28) (3.10)\n",
            "Requirement already satisfied: urllib3<3,>=1.21.1 in /usr/local/lib/python3.10/dist-packages (from requests>=2.20->openai==0.28) (2.2.3)\n",
            "Requirement already satisfied: certifi>=2017.4.17 in /usr/local/lib/python3.10/dist-packages (from requests>=2.20->openai==0.28) (2024.8.30)\n",
            "Requirement already satisfied: aiohappyeyeballs>=2.3.0 in /usr/local/lib/python3.10/dist-packages (from aiohttp->openai==0.28) (2.4.3)\n",
            "Requirement already satisfied: aiosignal>=1.1.2 in /usr/local/lib/python3.10/dist-packages (from aiohttp->openai==0.28) (1.3.1)\n",
            "Requirement already satisfied: attrs>=17.3.0 in /usr/local/lib/python3.10/dist-packages (from aiohttp->openai==0.28) (24.2.0)\n",
            "Requirement already satisfied: frozenlist>=1.1.1 in /usr/local/lib/python3.10/dist-packages (from aiohttp->openai==0.28) (1.5.0)\n",
            "Requirement already satisfied: multidict<7.0,>=4.5 in /usr/local/lib/python3.10/dist-packages (from aiohttp->openai==0.28) (6.1.0)\n",
            "Requirement already satisfied: yarl<2.0,>=1.12.0 in /usr/local/lib/python3.10/dist-packages (from aiohttp->openai==0.28) (1.17.0)\n",
            "Requirement already satisfied: async-timeout<5.0,>=4.0 in /usr/local/lib/python3.10/dist-packages (from aiohttp->openai==0.28) (4.0.3)\n",
            "Requirement already satisfied: typing-extensions>=4.1.0 in /usr/local/lib/python3.10/dist-packages (from multidict<7.0,>=4.5->aiohttp->openai==0.28) (4.12.2)\n",
            "Requirement already satisfied: propcache>=0.2.0 in /usr/local/lib/python3.10/dist-packages (from yarl<2.0,>=1.12.0->aiohttp->openai==0.28) (0.2.0)\n",
            "Downloading openai-0.28.0-py3-none-any.whl (76 kB)\n",
            "\u001b[?25l   \u001b[90m━━━━━━━━━━━━━━━━━━━━━━━━━━━━━━━━━━━━━━━━\u001b[0m \u001b[32m0.0/76.5 kB\u001b[0m \u001b[31m?\u001b[0m eta \u001b[36m-:--:--\u001b[0m\r\u001b[2K   \u001b[91m━━━━━━━━━━━━━━━━━━━━━━━━━━━━━━━━━━━━━\u001b[0m\u001b[90m╺\u001b[0m\u001b[90m━━\u001b[0m \u001b[32m71.7/76.5 kB\u001b[0m \u001b[31m3.4 MB/s\u001b[0m eta \u001b[36m0:00:01\u001b[0m\r\u001b[2K   \u001b[90m━━━━━━━━━━━━━━━━━━━━━━━━━━━━━━━━━━━━━━━━\u001b[0m \u001b[32m76.5/76.5 kB\u001b[0m \u001b[31m1.8 MB/s\u001b[0m eta \u001b[36m0:00:00\u001b[0m\n",
            "\u001b[?25hInstalling collected packages: openai\n",
            "  Attempting uninstall: openai\n",
            "    Found existing installation: openai 1.52.2\n",
            "    Uninstalling openai-1.52.2:\n",
            "      Successfully uninstalled openai-1.52.2\n",
            "Successfully installed openai-0.28.0\n"
          ]
        }
      ],
      "source": [
        "!pip install openai==0.28"
      ]
    },
    {
      "cell_type": "markdown",
      "source": [
        "## Import Libraries"
      ],
      "metadata": {
        "id": "hYWl4McJMFTQ"
      }
    },
    {
      "cell_type": "code",
      "source": [
        "import openai\n",
        "import os\n",
        "import json\n",
        "from google.colab import drive, runtime"
      ],
      "metadata": {
        "id": "LD5Z0GlAMIq_"
      },
      "execution_count": 2,
      "outputs": []
    },
    {
      "cell_type": "markdown",
      "source": [
        "## Mount Google Drive"
      ],
      "metadata": {
        "id": "O55Emed0JBQe"
      }
    },
    {
      "cell_type": "code",
      "source": [
        "drive.mount('/content/drive')"
      ],
      "metadata": {
        "colab": {
          "base_uri": "https://localhost:8080/"
        },
        "id": "SnjcIx8NMcHt",
        "outputId": "375a0454-5599-4302-c228-8b551c594ee8"
      },
      "execution_count": 3,
      "outputs": [
        {
          "output_type": "stream",
          "name": "stdout",
          "text": [
            "Mounted at /content/drive\n"
          ]
        }
      ]
    },
    {
      "cell_type": "markdown",
      "source": [
        "## Access Data"
      ],
      "metadata": {
        "id": "4OV0qRxxMkRe"
      }
    },
    {
      "cell_type": "code",
      "source": [
        "data = '/content/drive/MyDrive/Taboo data/en'"
      ],
      "metadata": {
        "id": "xQ6IkIzEMl-Q"
      },
      "execution_count": 4,
      "outputs": []
    },
    {
      "cell_type": "markdown",
      "source": [
        "## Load Data"
      ],
      "metadata": {
        "id": "odF29CMTMr4w"
      }
    },
    {
      "cell_type": "code",
      "source": [
        "taboo_data = {}\n",
        "\n",
        "# Load each JSON file\n",
        "for filename in os.listdir(data):\n",
        "    if filename.endswith(\".json\"):\n",
        "        category = filename.split('.')[0]  # e.g., 'animals', 'cars'\n",
        "        with open(os.path.join(data, filename), 'r') as file:\n",
        "            taboo_data[category] = json.load(file)\n",
        "\n",
        "# Display data structure\n",
        "print(f\"Categories loaded: {list(taboo_data.keys())}\")"
      ],
      "metadata": {
        "colab": {
          "base_uri": "https://localhost:8080/"
        },
        "id": "Rlbx8hsxMvGI",
        "outputId": "4ac23d6f-5a03-48a8-9f93-35eaf98add66"
      },
      "execution_count": 5,
      "outputs": [
        {
          "output_type": "stream",
          "name": "stdout",
          "text": [
            "Categories loaded: ['literature', 'food', 'tv', 'sports', 'cars', 'web', 'animals', 'city-country', 'people', 'things']\n"
          ]
        }
      ]
    },
    {
      "cell_type": "markdown",
      "source": [
        "## Prepare Training Data"
      ],
      "metadata": {
        "id": "4P0yckzeNNkN"
      }
    },
    {
      "cell_type": "code",
      "source": [
        "# Store prompt-completion pairs for training\n",
        "training_data = []\n",
        "\n",
        "for category, words in taboo_data.items():\n",
        "    for word, taboo_words in words.items():\n",
        "        prompt = f\"Describe '{word}' without using the words: {', '.join(taboo_words)}.\"\n",
        "        # Placeholder/generic description\n",
        "        completion = f\"A description for '{word}'.\"\n",
        "        training_data.append({'prompt': prompt, 'completion': completion})\n",
        "\n",
        "# Display updated sample training data\n",
        "print(\"Sample training data:\", training_data[:3])"
      ],
      "metadata": {
        "colab": {
          "base_uri": "https://localhost:8080/"
        },
        "id": "W1Hwe_-1NPtq",
        "outputId": "bce977f0-16aa-4a6c-bb1f-b01f262c5b39"
      },
      "execution_count": 7,
      "outputs": [
        {
          "output_type": "stream",
          "name": "stdout",
          "text": [
            "Sample training data: [{'prompt': \"Describe '1984' without using the words: George Orwell.\", 'completion': \"A description for '1984'.\"}, {'prompt': \"Describe 'A Doll's House' without using the words: Henrik Ibsen.\", 'completion': \"A description for 'A Doll's House'.\"}, {'prompt': \"Describe 'Absalom, Absalom!' without using the words: William Faulkner.\", 'completion': \"A description for 'Absalom, Absalom!'.\"}]\n"
          ]
        }
      ]
    },
    {
      "cell_type": "markdown",
      "source": [
        "## Save Training Data in JSONL Format"
      ],
      "metadata": {
        "id": "DTWKK8yPOW_-"
      }
    },
    {
      "cell_type": "code",
      "source": [
        "output_path = '/content/drive/MyDrive/Taboo data/training_data.jsonl'\n",
        "\n",
        "\n",
        "# Save data in JSONL format\n",
        "with open(output_path, 'w') as outfile:\n",
        "    for entry in training_data:\n",
        "        json.dump(entry, outfile)\n",
        "        outfile.write('\\n')\n",
        "\n",
        "print(f\"Training data saved to {output_path}\")"
      ],
      "metadata": {
        "colab": {
          "base_uri": "https://localhost:8080/"
        },
        "id": "YBE_-QW3Oc3b",
        "outputId": "fecfbdb8-afbb-48f8-bb40-40af20dc1dbc"
      },
      "execution_count": 8,
      "outputs": [
        {
          "output_type": "stream",
          "name": "stdout",
          "text": [
            "Training data saved to /content/drive/MyDrive/Taboo data/training_data.jsonl\n"
          ]
        }
      ]
    },
    {
      "cell_type": "markdown",
      "source": [
        "## Set up OpenAI API Key"
      ],
      "metadata": {
        "id": "TyjRdBcDPeb2"
      }
    },
    {
      "cell_type": "code",
      "source": [
        "from google.colab import userdata\n",
        "\n",
        "OPENAI_API_KEY = userdata.get(\"OPEN_API_KEY\")\n",
        "openai.api_key = OPENAI_API_KEY"
      ],
      "metadata": {
        "id": "yM3B4AOWPhWa"
      },
      "execution_count": 9,
      "outputs": []
    },
    {
      "cell_type": "markdown",
      "source": [
        "## Upload Training file to OpenAI"
      ],
      "metadata": {
        "id": "h8Ns5G5gQdTg"
      }
    },
    {
      "cell_type": "code",
      "source": [
        "with open(output_path, \"rb\") as file:\n",
        "    training_file = openai.File.create(\n",
        "        file=file,\n",
        "        purpose=\"fine-tune\"\n",
        "    )\n",
        "\n",
        "print(\"Training file ID:\", training_file[\"id\"])"
      ],
      "metadata": {
        "colab": {
          "base_uri": "https://localhost:8080/"
        },
        "id": "9tD2bJwqQhj2",
        "outputId": "6a9625e2-e414-4572-ff03-13507a42a4fb"
      },
      "execution_count": 10,
      "outputs": [
        {
          "output_type": "stream",
          "name": "stdout",
          "text": [
            "Training file ID: file-nuYtVcsBqcs2XT45EQXsyOAU\n"
          ]
        }
      ]
    }
  ]
}